{
 "cells": [
  {
   "cell_type": "markdown",
   "metadata": {},
   "source": [
    "From the Anaconda Prompt, I create my PostgreSQL database in \n",
    "C:\\Users\\bijno\\Anaconda3\\envs\\revolut"
   ]
  },
  {
   "cell_type": "code",
   "execution_count": 1,
   "metadata": {},
   "outputs": [
    {
     "name": "stdout",
     "output_type": "stream",
     "text": [
      "waiting for server to start....2019-11-30 09:37:18.334 GMT [13604] LOG:  listening on IPv6 address \"::1\", port 5432\r\n",
      "2019-11-30 09:37:18.334 GMT [13604] LOG:  listening on IPv4 address \"127.0.0.1\", port 5432\r\n",
      "2019-11-30 09:37:18.393 GMT [16188] LOG:  database system was shut down at 2019-11-29 21:54:52 GMT\n",
      "2019-11-30 09:37:18.420 GMT [13604] LOG:  database system is ready to accept connections\r\n",
      " done\r\n",
      "server started\r\n",
      "DROP DATABASE\r\n",
      "CREATE DATABASE\r\n",
      "2019-11-30 09:43:35.104 GMT [13604] LOG:  received fast shutdown request\r\n",
      "2019-11-30 09:43:35.105 GMT [13604] LOG:  aborting any active transactions\r\n",
      "2019-11-30 09:43:35.120 GMT [13604] LOG:  background worker \"logical replication launcher\" (PID 13960) exited with exit code 1\r\n",
      "2019-11-30 09:43:35.124 GMT [9912] LOG:  shutting down\n",
      "2019-11-30 09:43:35.169 GMT [13604] LOG:  database system is shut down\r\n"
     ]
    },
    {
     "name": "stderr",
     "output_type": "stream",
     "text": [
      "pg_ctl: PID file \"C:/Users/bijno/Anaconda3/envs/revolut/pgdata/postmaster.pid\" does not exist\r\n",
      "Is server running?\r\n",
      "trying to start server anyway\r\n"
     ]
    }
   ],
   "source": [
    "%%bash\n",
    "pg_ctl.exe restart --pgdata=\"C:\\Users\\bijno\\Anaconda3\\envs\\revolut\\pgdata\"\n",
    "psql.exe -c \"drop database if exists ht_dbdata;\" postgres\n",
    "psql.exe -c \"create database ht_dbdata;\" postgres"
   ]
  },
  {
   "cell_type": "code",
   "execution_count": null,
   "metadata": {},
   "outputs": [],
   "source": [
    "%reload_ext sql\n",
    "%sql postgresql://localhost/ht_dbdata"
   ]
  },
  {
   "cell_type": "code",
   "execution_count": 2,
   "metadata": {},
   "outputs": [
    {
     "name": "stderr",
     "output_type": "stream",
     "text": [
      "UsageError: Line magic function `%sql` not found.\n"
     ]
    }
   ],
   "source": [
    "pg_version=%sql select version()\n",
    "print(pg_version)"
   ]
  },
  {
   "cell_type": "code",
   "execution_count": null,
   "metadata": {},
   "outputs": [],
   "source": [
    "%%bash\n",
    "python etl.py"
   ]
  }
 ],
 "metadata": {
  "kernelspec": {
   "display_name": "Python 3",
   "language": "python",
   "name": "python3"
  },
  "language_info": {
   "codemirror_mode": {
    "name": "ipython",
    "version": 3
   },
   "file_extension": ".py",
   "mimetype": "text/x-python",
   "name": "python",
   "nbconvert_exporter": "python",
   "pygments_lexer": "ipython3",
   "version": "3.7.5"
  }
 },
 "nbformat": 4,
 "nbformat_minor": 2
}
